{
 "cells": [
  {
   "cell_type": "markdown",
   "id": "945bc7dd",
   "metadata": {},
   "source": [
    "### 벡터의 내적\n",
    "- 두개의 벡터를 비교해서 얼마나 닮아있는가를 판단\n",
    "- a * b = |a| * |b| * cos$\\theta$ \n",
    "    - a * a = |a| * |a| * cos0 = 1 \n",
    "    - a * b = |a| * |b| * cos90 = 0 \n",
    "    - a * c = |a| * |c| * cos45 = 1\n",
    "    - b * c = |b| * |c| * cos45 = 1\n",
    "\n",
    "- 코시-슈바르츠 부등식 \n",
    "    - 두 벡터가 느 정도로 같은 방향을 향하고 있는가를 나타낸다\n",
    "    - 임의의 cos$\\theta$는 -1 <= cos$\\theta$ <= 1 이라는 범위를갖습나다\n",
    "        - 두 벡터가 반대 방향이라면 내적은 최솟값 = -1\n",
    "        - 두 벡터가 평행하지 않다면 내적은 -1 < cos$\\theta$ < 1\n",
    "        - 두 벡터가 같은 방향이라면 내적은 최댓값 = 1\n",
    "\n",
    "- 벡터의 내적 표시\n",
    "    - a1b1 + a2b2\n",
    "    "
   ]
  },
  {
   "cell_type": "markdown",
   "id": "782ef339",
   "metadata": {},
   "source": [
    "## CNN\n",
    "- 컴볼루션 층과 풀링층으로 구성\n",
    "- 원본 이미지에 커널을 이용해서 컨볼루션을 수행하면 커널의 종류에 따라 원본 이미지의 특징들이 활성화 맵으로 추출\n",
    "    - 어떤 커널을 사용하느냐에 따라 원본 이미지에서 다양한 특징 추출 가능\n",
    "\n",
    "#### 컴볼루션\n",
    "- 이미지와 필터간의 유사성을 보기 위해\n",
    "    - 두 필터 값, 즉 벡터의 유사성을 보기 위한 것\n",
    "\n",
    "#### 폴링층\n",
    "- 최대값 풀링, 평균값 풀링, 최소갮 풀링이 있다\n",
    "    - 최대값 풀링을 가장 많이 사용\n",
    "- 이미지를 점점 줄여나가며 특징을 잡아나간다.\n",
    "\n",
    "#### 패딩\n",
    "- 인풋 이미지의 끝 영역을 확장해주는 것\n",
    "- 입력되는 이미지 크기와 출력되는 이미지의 크기를 동일하게 만들고 싶을때 사용\n",
    "- 제로패딩: 끝을 0으로 채워주는 것\n",
    "\n",
    "#### 컴볼루션 연산\n",
    "- Wout = (win - F + 2P / s) + 1\n",
    "- 유사도가 높을 수록 특징을 잘 잡고 있는 것이다.\n",
    "\n",
    "#### 소프트맥스(Sotfmax)\n",
    "- 각각의 출력값에 대한 확률값을 출력해준다."
   ]
  },
  {
   "cell_type": "code",
   "execution_count": null,
   "id": "b9f4501c",
   "metadata": {},
   "outputs": [],
   "source": []
  }
 ],
 "metadata": {
  "kernelspec": {
   "display_name": "Python 3",
   "language": "python",
   "name": "python3"
  },
  "language_info": {
   "codemirror_mode": {
    "name": "ipython",
    "version": 3
   },
   "file_extension": ".py",
   "mimetype": "text/x-python",
   "name": "python",
   "nbconvert_exporter": "python",
   "pygments_lexer": "ipython3",
   "version": "3.6.13"
  }
 },
 "nbformat": 4,
 "nbformat_minor": 5
}
